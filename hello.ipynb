{
  "nbformat": 4,
  "nbformat_minor": 0,
  "metadata": {
    "colab": {
      "name": "Untitled0.ipynb",
      "provenance": [],
      "authorship_tag": "ABX9TyMwAo3thQqZ+Q8Wc9ct7JdZ",
      "include_colab_link": true
    },
    "kernelspec": {
      "name": "python3",
      "display_name": "Python 3"
    }
  },
  "cells": [
    {
      "cell_type": "markdown",
      "metadata": {
        "id": "view-in-github",
        "colab_type": "text"
      },
      "source": [
        "<a href=\"https://colab.research.google.com/github/gpgloria/hello-world/blob/master/hello.ipynb\" target=\"_parent\"><img src=\"https://colab.research.google.com/assets/colab-badge.svg\" alt=\"Open In Colab\"/></a>"
      ]
    },
    {
      "cell_type": "code",
      "metadata": {
        "id": "3TILeloCK7ot",
        "colab_type": "code",
        "colab": {}
      },
      "source": [
        "import pandas as pd\n",
        "import GetOldTweets3 as got\n",
        "import tweepy as tp"
      ],
      "execution_count": 4,
      "outputs": []
    },
    {
      "cell_type": "code",
      "metadata": {
        "id": "m8Vva8sPRf2i",
        "colab_type": "code",
        "colab": {}
      },
      "source": [
        "# access codes:\n",
        "consumer_key = '0t29N9fo651nxtIXAkJv8jQWE'\n",
        "consumer_secret = 'ANEwGFaZBSMIPHgkIzSmvauMulfOC80IxkSkkrOD8Z5jA9TvLG'\n",
        "access_token = '1290475713603149825-EfWkwpelpD80R8egiu5g6iYKhJhhR1'\n",
        "access_token_secret = 'G13DVcLC4buk5Vn4KPZ5t7SfpIBRA2OudHRcX1AKFfPJj'\n",
        "\n",
        "auth = tp.OAuthHandler(consumer_key, consumer_secret)\n",
        "auth.set_access_token(access_token, access_token_secret)\n",
        "api = tp.API(auth)"
      ],
      "execution_count": 5,
      "outputs": []
    },
    {
      "cell_type": "code",
      "metadata": {
        "id": "Fe2Jb51aRiBq",
        "colab_type": "code",
        "colab": {}
      },
      "source": [
        "query_search = \"Duterte\"\n",
        "since_date =  \"2020-01-01\"\n",
        "until_date = \"2020-07-31\"\n",
        "location = \"Philippines\"\n",
        "count = 20"
      ],
      "execution_count": 6,
      "outputs": []
    },
    {
      "cell_type": "code",
      "metadata": {
        "id": "f816uA0pRjEE",
        "colab_type": "code",
        "colab": {}
      },
      "source": [
        "tweetCriteria = got.manager.TweetCriteria().setQuerySearch(query_search)\\\n",
        "    .setTopTweets(True).setNear(location).setWithin(\"200mi\").setSince(since_date)\\\n",
        "    .setUntil(until_date).setEmoji(\"unicode\").setMaxTweets(count)"
      ],
      "execution_count": 7,
      "outputs": []
    },
    {
      "cell_type": "code",
      "metadata": {
        "id": "GKu4LKv5RlB9",
        "colab_type": "code",
        "colab": {}
      },
      "source": [
        "#Create list\n",
        "\n",
        "tweets = got.manager.TweetManager.getTweets(tweetCriteria)\n",
        "text_tweets = [[tweet.id,tweet.username,api.get_user(str(tweet.username)).created_at,\\\n",
        "                tweet.date,tweet.text,tweet.retweets,tweet.favorites,tweet.mentions,\\\n",
        "                tweet.hashtags,api.get_user(str(tweet.username)).location] for tweet in tweets]"
      ],
      "execution_count": 8,
      "outputs": []
    },
    {
      "cell_type": "code",
      "metadata": {
        "id": "rTEIEaVWRnBH",
        "colab_type": "code",
        "colab": {}
      },
      "source": [
        "df = pd.DataFrame(text_tweets, index=None, columns=[\"ID\",\"Username\",\n",
        "                                                    \"AccountDateCreate\",\n",
        "                                                    \"TweetDate\",\"Tweet\",\n",
        "                                                    \"Retweets\",\n",
        "                                                    \"Favorites\",\"Mentions\",\n",
        "                                                    \"Hashtags\",\"Location\"])"
      ],
      "execution_count": 9,
      "outputs": []
    },
    {
      "cell_type": "code",
      "metadata": {
        "id": "PkkCpp8qRp8T",
        "colab_type": "code",
        "colab": {}
      },
      "source": [
        ""
      ],
      "execution_count": 10,
      "outputs": []
    }
  ]
}